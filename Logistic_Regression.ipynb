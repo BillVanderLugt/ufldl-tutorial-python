{
 "metadata": {
  "name": "",
  "signature": "sha256:85aee31f65ac678c7ec55634657577a1b801169a9a87668f999321a48573b94e"
 },
 "nbformat": 3,
 "nbformat_minor": 0,
 "worksheets": [
  {
   "cells": [
    {
     "cell_type": "code",
     "collapsed": false,
     "input": [
      "%matplotlib inline"
     ],
     "language": "python",
     "metadata": {},
     "outputs": [],
     "prompt_number": 297
    },
    {
     "cell_type": "code",
     "collapsed": false,
     "input": [
      "import matplotlib.pyplot as plt\n",
      "import numpy as np\n",
      "import scipy.optimize\n",
      "import time\n",
      "from sklearn.datasets import fetch_mldata"
     ],
     "language": "python",
     "metadata": {},
     "outputs": [],
     "prompt_number": 298
    },
    {
     "cell_type": "code",
     "collapsed": false,
     "input": [
      "def normalize_features(train, test):\n",
      "    train_mean = train.mean(axis=0)\n",
      "    train_std = train.std(axis=0) + 0.1    # to avoid division by zero\n",
      "    train = (train - train_mean) / train_std\n",
      "    test = (test - train_mean) / train_std\n",
      "    return train, test"
     ],
     "language": "python",
     "metadata": {},
     "outputs": [],
     "prompt_number": 299
    },
    {
     "cell_type": "code",
     "collapsed": false,
     "input": [
      "# get data\n",
      "mnist = fetch_mldata('MNIST original', data_home='./data')\n",
      "\n",
      "# prepare for concat\n",
      "y_all = mnist.target[:, np.newaxis]\n",
      "\n",
      "# intercept term to be added\n",
      "intercept = np.ones_like(y_all)\n",
      "\n",
      "# normalize the data (zero mean and unit variance)\n",
      "train_normalized, test_normalized = normalize_features(\n",
      "    mnist.data[:60000, :],\n",
      "    mnist.data[60000:, :],\n",
      ")\n",
      "\n",
      "# concat intercept, X, and y so that shuffling is easier in a next step\n",
      "train_all = np.hstack((\n",
      "    intercept[:60000],\n",
      "    train_normalized,\n",
      "    y_all[:60000],\n",
      "))\n",
      "test_all = np.hstack((\n",
      "    intercept[60000:],\n",
      "    test_normalized,\n",
      "    y_all[60000:],\n",
      "))"
     ],
     "language": "python",
     "metadata": {},
     "outputs": [],
     "prompt_number": 300
    },
    {
     "cell_type": "code",
     "collapsed": false,
     "input": [
      "np.random.shuffle(train_all)\n",
      "np.random.shuffle(test_all)"
     ],
     "language": "python",
     "metadata": {},
     "outputs": [],
     "prompt_number": 301
    },
    {
     "cell_type": "code",
     "collapsed": false,
     "input": [
      "# train data\n",
      "train_X = np.vstack((\n",
      "    train_all[train_all[:, -1] == 0, :-1],\n",
      "    train_all[train_all[:, -1] == 1, :-1],\n",
      "))\n",
      "train_y = np.hstack((\n",
      "    train_all[train_all[:, -1] == 0, -1],\n",
      "    train_all[train_all[:, -1] == 1, -1],\n",
      "))\n",
      "\n",
      "# test data\n",
      "test_X = np.vstack((\n",
      "    test_all[test_all[:, -1] == 0, :-1],\n",
      "    test_all[test_all[:, -1] == 1, :-1],\n",
      "))\n",
      "test_y = np.hstack((\n",
      "    test_all[test_all[:, -1] == 0, -1],\n",
      "    test_all[test_all[:, -1] == 1, -1],\n",
      "))"
     ],
     "language": "python",
     "metadata": {},
     "outputs": [],
     "prompt_number": 302
    },
    {
     "cell_type": "code",
     "collapsed": false,
     "input": [
      "m, n = train_X.shape"
     ],
     "language": "python",
     "metadata": {},
     "outputs": [],
     "prompt_number": 303
    },
    {
     "cell_type": "code",
     "collapsed": false,
     "input": [
      "def cost_function(theta, X, y):\n",
      "    h = sigmoid(X.dot(theta))\n",
      "    return -sum(y * np.log(h) + (1 - y) * np.log(1 - h))"
     ],
     "language": "python",
     "metadata": {},
     "outputs": [],
     "prompt_number": 304
    },
    {
     "cell_type": "code",
     "collapsed": false,
     "input": [
      "def sigmoid(z):\n",
      "    return 1.0 / (1.0 + np.exp(-z))"
     ],
     "language": "python",
     "metadata": {},
     "outputs": [],
     "prompt_number": 305
    },
    {
     "cell_type": "code",
     "collapsed": false,
     "input": [
      "def gradient(theta, X, y):\n",
      "    errors = sigmoid(X.dot(theta)) - y\n",
      "    return errors.dot(X)"
     ],
     "language": "python",
     "metadata": {},
     "outputs": [],
     "prompt_number": 306
    },
    {
     "cell_type": "code",
     "collapsed": false,
     "input": [
      "J_history = []\n",
      "\n",
      "t0 = time.time()\n",
      "res = scipy.optimize.minimize(\n",
      "    fun=cost_function,\n",
      "    x0=np.random.rand(n) * 0.001,\n",
      "    args=(train_X, train_y),\n",
      "    method='L-BFGS-B',\n",
      "    jac=gradient,\n",
      "    options={'maxiter': 100, 'disp': True},\n",
      "    callback=lambda x: J_history.append(cost_function(x, train_X, train_y)),\n",
      ")\n",
      "t1 = time.time()\n",
      "\n",
      "print 'Optimization took {s} seconds'.format(s=t1 - t0)\n",
      "optimal_theta = res.x"
     ],
     "language": "python",
     "metadata": {},
     "outputs": [
      {
       "output_type": "stream",
       "stream": "stdout",
       "text": [
        "Optimization took 1.35825419426 seconds\n"
       ]
      }
     ],
     "prompt_number": 311
    },
    {
     "cell_type": "code",
     "collapsed": false,
     "input": [
      "plt.plot(J_history, marker='o')\n",
      "plt.xlabel('Iterations')\n",
      "plt.ylabel('J(theta)')"
     ],
     "language": "python",
     "metadata": {},
     "outputs": [
      {
       "metadata": {},
       "output_type": "pyout",
       "prompt_number": 312,
       "text": [
        "<matplotlib.text.Text at 0x110585d90>"
       ]
      },
      {
       "metadata": {},
       "output_type": "display_data",
       "png": "[encoded data removed]",
       "text": [
        "<matplotlib.figure.Figure at 0x10fdfd6d0>"
       ]
      }
     ],
     "prompt_number": 312
    },
    {
     "cell_type": "code",
     "collapsed": false,
     "input": [
      "def accuracy(theta, X, y):\n",
      "    correct = np.sum(np.equal(y, (sigmoid(X.dot(theta))) > 0.5))\n",
      "    return float(correct) / y.size"
     ],
     "language": "python",
     "metadata": {},
     "outputs": [],
     "prompt_number": 313
    },
    {
     "cell_type": "code",
     "collapsed": false,
     "input": [
      "print 'Training accuracy: {acc}'.format(acc=accuracy(res.x, train_X, train_y))\n",
      "print 'Test accuracy: {acc}'.format(acc=accuracy(res.x, test_X, test_y))"
     ],
     "language": "python",
     "metadata": {},
     "outputs": [
      {
       "output_type": "stream",
       "stream": "stdout",
       "text": [
        "Training accuracy: 1.0\n",
        "Test accuracy: 0.999527186761\n"
       ]
      }
     ],
     "prompt_number": 314
    }
   ],
   "metadata": {}
  }
 ]
}