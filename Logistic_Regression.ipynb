{
 "metadata": {
  "name": "",
  "signature": "sha256:1005f3f282e6033ccf6a8397a0f7130317af0c62404c3b41e1a5710bc4fa8b72"
 },
 "nbformat": 3,
 "nbformat_minor": 0,
 "worksheets": [
  {
   "cells": [
    {
     "cell_type": "code",
     "collapsed": false,
     "input": [
      "%matplotlib inline"
     ],
     "language": "python",
     "metadata": {},
     "outputs": [],
     "prompt_number": 1
    },
    {
     "cell_type": "code",
     "collapsed": false,
     "input": [
      "import scipy.optimize\n",
      "import time\n",
      "import matplotlib.pyplot as plt\n",
      "import numpy as np\n",
      "from sklearn.datasets import fetch_mldata"
     ],
     "language": "python",
     "metadata": {},
     "outputs": [],
     "prompt_number": 2
    },
    {
     "cell_type": "code",
     "collapsed": false,
     "input": [
      "def normalize_features(train, test):\n",
      "    \"\"\"Normalizes train set features to a standard normal distribution\n",
      "    (zero mean and unit variance). The same procedure is then applied\n",
      "    to the test set features.\n",
      "    \"\"\"\n",
      "    train_mean = train.mean(axis=0)\n",
      "    # +0.1 to avoid division by zero in this specific case\n",
      "    train_std = train.std(axis=0) + 0.1\n",
      "    \n",
      "    train = (train - train_mean) / train_std\n",
      "    test = (test - train_mean) / train_std\n",
      "    return train, test"
     ],
     "language": "python",
     "metadata": {},
     "outputs": [],
     "prompt_number": 3
    },
    {
     "cell_type": "markdown",
     "metadata": {},
     "source": [
      "First get and preprocess the data."
     ]
    },
    {
     "cell_type": "code",
     "collapsed": false,
     "input": [
      "# get data: contains 70k samples of which the last 10k are meant for testing\n",
      "mnist = fetch_mldata('MNIST original', data_home='./data')\n",
      "\n",
      "# prepare for concat\n",
      "y_all = mnist.target[:, np.newaxis]\n",
      "\n",
      "# intercept term to be added\n",
      "intercept = np.ones_like(y_all)\n",
      "\n",
      "# normalize the data (zero mean and unit variance)\n",
      "train_normalized, test_normalized = normalize_features(\n",
      "    mnist.data[:60000, :],\n",
      "    mnist.data[60000:, :],\n",
      ")\n",
      "\n",
      "# concat intercept, X, and y so that shuffling is easier in a next step\n",
      "train_all = np.hstack((\n",
      "    intercept[:60000],\n",
      "    train_normalized,\n",
      "    y_all[:60000],\n",
      "))\n",
      "test_all = np.hstack((\n",
      "    intercept[60000:],\n",
      "    test_normalized,\n",
      "    y_all[60000:],\n",
      "))"
     ],
     "language": "python",
     "metadata": {},
     "outputs": [],
     "prompt_number": 4
    },
    {
     "cell_type": "markdown",
     "metadata": {},
     "source": [
      "I don't think this randomization step is really needed in our case, but let's stick with the ufldl tutorial here."
     ]
    },
    {
     "cell_type": "code",
     "collapsed": false,
     "input": [
      "np.random.shuffle(train_all)\n",
      "np.random.shuffle(test_all)"
     ],
     "language": "python",
     "metadata": {},
     "outputs": [],
     "prompt_number": 5
    },
    {
     "cell_type": "markdown",
     "metadata": {},
     "source": [
      "Now prepare the final train and test datasets. Let's only pick the data for the digits `0` and `1`."
     ]
    },
    {
     "cell_type": "code",
     "collapsed": false,
     "input": [
      "# train data\n",
      "train_X = train_all[np.logical_or(train_all[:, -1] == 0, train_all[:, -1] == 1), :-1]\n",
      "train_y = train_all[np.logical_or(train_all[:, -1] == 0, train_all[:, -1] == 1), -1]\n",
      "\n",
      "# test data\n",
      "test_X = test_all[np.logical_or(test_all[:, -1] == 0, test_all[:, -1] == 1), :-1]    \n",
      "test_y = test_all[np.logical_or(test_all[:, -1] == 0, test_all[:, -1] == 1), -1]"
     ],
     "language": "python",
     "metadata": {},
     "outputs": [],
     "prompt_number": 6
    },
    {
     "cell_type": "code",
     "collapsed": false,
     "input": [
      "def sigmoid(z):\n",
      "    return 1.0 / (1.0 + np.exp(-z))"
     ],
     "language": "python",
     "metadata": {},
     "outputs": [],
     "prompt_number": 7
    },
    {
     "cell_type": "code",
     "collapsed": false,
     "input": [
      "def cost_function(theta, X, y):\n",
      "    h = sigmoid(X.dot(theta))\n",
      "    return -sum(y * np.log(h) + (1 - y) * np.log(1 - h))"
     ],
     "language": "python",
     "metadata": {},
     "outputs": [],
     "prompt_number": 8
    },
    {
     "cell_type": "code",
     "collapsed": false,
     "input": [
      "def gradient(theta, X, y):\n",
      "    errors = sigmoid(X.dot(theta)) - y\n",
      "    return errors.dot(X)"
     ],
     "language": "python",
     "metadata": {},
     "outputs": [],
     "prompt_number": 9
    },
    {
     "cell_type": "code",
     "collapsed": false,
     "input": [
      "J_history = []\n",
      "\n",
      "t0 = time.time()\n",
      "res = scipy.optimize.minimize(\n",
      "    fun=cost_function,\n",
      "    x0=np.random.rand(train_X.shape[1]) * 0.001,\n",
      "    args=(train_X, train_y),\n",
      "    method='L-BFGS-B',\n",
      "    jac=gradient,\n",
      "    options={'maxiter': 100, 'disp': True},\n",
      "    callback=lambda x: J_history.append(cost_function(x, train_X, train_y)),\n",
      ")\n",
      "t1 = time.time()\n",
      "\n",
      "print 'Optimization took {s} seconds'.format(s=t1 - t0)\n",
      "optimal_theta = res.x"
     ],
     "language": "python",
     "metadata": {},
     "outputs": [
      {
       "output_type": "stream",
       "stream": "stdout",
       "text": [
        "Optimization took 1.50159907341 seconds\n"
       ]
      }
     ],
     "prompt_number": 21
    },
    {
     "cell_type": "code",
     "collapsed": false,
     "input": [
      "plt.plot(J_history, marker='o')\n",
      "plt.xlabel('Iterations')\n",
      "plt.ylabel('J(theta)')"
     ],
     "language": "python",
     "metadata": {},
     "outputs": [
      {
       "metadata": {},
       "output_type": "pyout",
       "prompt_number": 22,
       "text": [
        "<matplotlib.text.Text at 0x11e0a1650>"
       ]
      },
      {
       "metadata": {},
       "output_type": "display_data",
       "png": "[encoded data removed]",
       "text": [
        "<matplotlib.figure.Figure at 0x109380b90>"
       ]
      }
     ],
     "prompt_number": 22
    },
    {
     "cell_type": "code",
     "collapsed": false,
     "input": [
      "def accuracy(theta, X, y):\n",
      "    correct = np.sum(np.equal(y, (sigmoid(X.dot(theta))) > 0.5))\n",
      "    return float(correct) / y.size"
     ],
     "language": "python",
     "metadata": {},
     "outputs": [],
     "prompt_number": 23
    },
    {
     "cell_type": "code",
     "collapsed": false,
     "input": [
      "print 'Training accuracy: {acc}'.format(acc=accuracy(res.x, train_X, train_y))\n",
      "print 'Test accuracy: {acc}'.format(acc=accuracy(res.x, test_X, test_y))"
     ],
     "language": "python",
     "metadata": {},
     "outputs": [
      {
       "output_type": "stream",
       "stream": "stdout",
       "text": [
        "Training accuracy: 1.0\n",
        "Test accuracy: 0.999527186761\n"
       ]
      }
     ],
     "prompt_number": 24
    },
    {
     "cell_type": "markdown",
     "metadata": {},
     "source": [
      "### Looking good, right? Well, look closer...\n",
      "I actually had to use the **`L-BFGS-B`** optimization method for it to work.<br>\n",
      "Had I used the expected **`BFGS`** method, **nan** and **inf** values due to `log(0)` would have made trouble.<br>\n",
      "Why? I can think of two reasons:\n",
      "1. Even if being multiplied with `0`, the `log(0)` expression is still evaluated by numpy. And unfortunately: `0 * np.nan = np.nan`.\n",
      "2. Floating point arithmetic limits which don't exist in Mathematics.\n",
      "\n",
      "One way to counteract those issues is to substitute the troubling values:"
     ]
    },
    {
     "cell_type": "code",
     "collapsed": false,
     "input": [
      "def safe_log(x, nan_substitute=-1e+4):\n",
      "    l = np.log(x)\n",
      "    l[np.logical_or(np.isnan(l), np.isinf(l))] = nan_substitute\n",
      "    return l"
     ],
     "language": "python",
     "metadata": {},
     "outputs": [],
     "prompt_number": 25
    },
    {
     "cell_type": "code",
     "collapsed": false,
     "input": [
      "def cost_function_safe(theta, X, y):\n",
      "    h = sigmoid(X.dot(theta))\n",
      "    return -sum(y * safe_log(h) + (1 - y) * safe_log(1 - h))"
     ],
     "language": "python",
     "metadata": {},
     "outputs": [],
     "prompt_number": 26
    },
    {
     "cell_type": "code",
     "collapsed": false,
     "input": [
      "J_history = []\n",
      "\n",
      "t0 = time.time()\n",
      "res = scipy.optimize.minimize(\n",
      "    fun=cost_function_safe,\n",
      "    x0=np.random.rand(train_X.shape[1]) * 0.001,\n",
      "    args=(train_X, train_y),\n",
      "    method='BFGS',\n",
      "    jac=gradient,\n",
      "    options={'maxiter': 100, 'disp': True},\n",
      "    callback=lambda x: J_history.append(cost_function_safe(x, train_X, train_y)),\n",
      ")\n",
      "t1 = time.time()\n",
      "\n",
      "print 'Optimization took {s} seconds'.format(s=t1 - t0)\n",
      "optimal_theta = res.x"
     ],
     "language": "python",
     "metadata": {},
     "outputs": [
      {
       "output_type": "stream",
       "stream": "stdout",
       "text": [
        "Warning: Maximum number of iterations has been exceeded.\n",
        "         Current function value: 0.001523\n",
        "         Iterations: 100\n",
        "         Function evaluations: 115\n",
        "         Gradient evaluations: 115\n",
        "Optimization took 4.02145814896 seconds\n"
       ]
      }
     ],
     "prompt_number": 30
    },
    {
     "cell_type": "markdown",
     "metadata": {},
     "source": [
      "<br>\n",
      "Notice that the above optimization procedure doesn't converge due to the substitutions (which doesn't allow the gradients to further improve (= get smaller) at some point). Therefore, it used all 100 allowed iterations."
     ]
    },
    {
     "cell_type": "code",
     "collapsed": false,
     "input": [
      "plt.plot(J_history, marker='o')\n",
      "plt.xlabel('Iterations')\n",
      "plt.ylabel('J(theta)')"
     ],
     "language": "python",
     "metadata": {},
     "outputs": [
      {
       "metadata": {},
       "output_type": "pyout",
       "prompt_number": 32,
       "text": [
        "<matplotlib.text.Text at 0x10d457190>"
       ]
      },
      {
       "metadata": {},
       "output_type": "display_data",
       "png": "[encoded data removed]",
       "text": [
        "<matplotlib.figure.Figure at 0x10db3e590>"
       ]
      }
     ],
     "prompt_number": 32
    },
    {
     "cell_type": "code",
     "collapsed": false,
     "input": [
      "print 'Training accuracy: {acc}'.format(acc=accuracy(res.x, train_X, train_y))\n",
      "print 'Test accuracy: {acc}'.format(acc=accuracy(res.x, test_X, test_y))"
     ],
     "language": "python",
     "metadata": {},
     "outputs": [
      {
       "output_type": "stream",
       "stream": "stdout",
       "text": [
        "Training accuracy: 1.0\n",
        "Test accuracy: 0.999054373522\n"
       ]
      }
     ],
     "prompt_number": 33
    }
   ],
   "metadata": {}
  }
 ]
}