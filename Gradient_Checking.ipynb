{
 "cells": [
  {
   "cell_type": "code",
   "execution_count": 1,
   "metadata": {
    "collapsed": false
   },
   "outputs": [],
   "source": [
    "%matplotlib inline"
   ]
  },
  {
   "cell_type": "code",
   "execution_count": 2,
   "metadata": {
    "collapsed": false
   },
   "outputs": [],
   "source": [
    "import matplotlib.pyplot as plt\n",
    "import numpy as np\n",
    "import scipy.optimize"
   ]
  },
  {
   "cell_type": "markdown",
   "metadata": {},
   "source": [
    "## Preparation (Based on Linear Regression)"
   ]
  },
  {
   "cell_type": "markdown",
   "metadata": {},
   "source": [
    "Prepare train and test data."
   ]
  },
  {
   "cell_type": "code",
   "execution_count": 3,
   "metadata": {
    "collapsed": false
   },
   "outputs": [],
   "source": [
    "data_original = np.loadtxt('stanford_dl_ex/ex1/housing.data')\n",
    "data = np.insert(data_original, 0, 1, axis=1)\n",
    "np.random.shuffle(data)\n",
    "train_X = data[:400, :-1]\n",
    "train_y = data[:400, -1]\n",
    "\n",
    "m, n = train_X.shape\n",
    "theta = np.random.rand(n)"
   ]
  },
  {
   "cell_type": "markdown",
   "metadata": {},
   "source": [
    "Define some necessary functions."
   ]
  },
  {
   "cell_type": "code",
   "execution_count": 4,
   "metadata": {
    "collapsed": true
   },
   "outputs": [],
   "source": [
    "def cost_function(theta, X, y): \n",
    "    squared_errors = (X.dot(theta) - y) ** 2\n",
    "    J = 0.5 * squared_errors.sum()\n",
    "    return J\n",
    "\n",
    "def gradient(theta, X, y):\n",
    "    errors = X.dot(theta) - y\n",
    "    return errors.dot(X)"
   ]
  },
  {
   "cell_type": "markdown",
   "metadata": {},
   "source": [
    "## Gradient Checking"
   ]
  },
  {
   "cell_type": "markdown",
   "metadata": {},
   "source": [
    "Define \"step size\" (don't set it too low to avoid numerical precision issues)."
   ]
  },
  {
   "cell_type": "code",
   "execution_count": 5,
   "metadata": {
    "collapsed": false
   },
   "outputs": [],
   "source": [
    "epsilon = 1e-4"
   ]
  },
  {
   "cell_type": "markdown",
   "metadata": {},
   "source": [
    "Prepare theta step values (making use of numpy broadcasting)."
   ]
  },
  {
   "cell_type": "code",
   "execution_count": 6,
   "metadata": {
    "collapsed": false
   },
   "outputs": [],
   "source": [
    "mask = np.identity(theta.size)\n",
    "theta_plus = theta + epsilon * mask\n",
    "theta_minus = theta - epsilon * mask"
   ]
  },
  {
   "cell_type": "markdown",
   "metadata": {},
   "source": [
    "Compute diffs between theta's gradient as mathematically defined and the gradient as defined by our function above."
   ]
  },
  {
   "cell_type": "code",
   "execution_count": 7,
   "metadata": {
    "collapsed": false
   },
   "outputs": [],
   "source": [
    "diffs = np.empty_like(theta)\n",
    "for i in xrange(theta_plus.shape[0]):\n",
    "    gradient_def = (\n",
    "        (cost_function(theta_plus[i], train_X, train_y) - cost_function(theta_minus[i], train_X, train_y)) /\n",
    "        (2.0 * epsilon)\n",
    "    )\n",
    "    gradient_lin_reg = gradient(theta, train_X, train_y)[i]\n",
    "    diffs[i] = np.absolute(gradient_def - gradient_lin_reg)"
   ]
  },
  {
   "cell_type": "code",
   "execution_count": 8,
   "metadata": {
    "collapsed": false
   },
   "outputs": [
    {
     "data": {
      "text/plain": [
       "array([  2.88438168e-05,   3.42063140e-05,   8.56812112e-05,\n",
       "         4.91025858e-05,   2.31129034e-05,   4.16042458e-05,\n",
       "         2.71315221e-05,   5.51249832e-05,   2.85694841e-06,\n",
       "         3.98228876e-05,   2.96682119e-05,   2.04611570e-06,\n",
       "         7.19726086e-06,   6.84889965e-05])"
      ]
     },
     "execution_count": 8,
     "metadata": {},
     "output_type": "execute_result"
    }
   ],
   "source": [
    "diffs"
   ]
  },
  {
   "cell_type": "markdown",
   "metadata": {},
   "source": [
    "**Lookin' good!** The smaller the values, the better.<br>\n",
    "(Any value significantly larger than 1e-4 indicates a problem.)"
   ]
  },
  {
   "cell_type": "code",
   "execution_count": 9,
   "metadata": {
    "collapsed": false
   },
   "outputs": [],
   "source": [
    "assert all(np.less(diffs, 1e-4))"
   ]
  },
  {
   "cell_type": "markdown",
   "metadata": {},
   "source": [
    "Quality check: passed with distinction."
   ]
  }
 ],
 "metadata": {
  "kernelspec": {
   "display_name": "Python 2",
   "language": "python",
   "name": "python2"
  },
  "language_info": {
   "codemirror_mode": {
    "name": "ipython",
    "version": 2
   },
   "file_extension": ".py",
   "mimetype": "text/x-python",
   "name": "python",
   "nbconvert_exporter": "python",
   "pygments_lexer": "ipython2",
   "version": "2.7.9"
  }
 },
 "nbformat": 4,
 "nbformat_minor": 0
}
