{
 "metadata": {
  "name": "",
  "signature": "sha256:ce86133ac99ee1d68e5a5087ee060c93f288900892dc300513adc3763094e7a8"
 },
 "nbformat": 3,
 "nbformat_minor": 0,
 "worksheets": [
  {
   "cells": [
    {
     "cell_type": "code",
     "collapsed": false,
     "input": [
      "%matplotlib inline"
     ],
     "language": "python",
     "metadata": {},
     "outputs": [],
     "prompt_number": 1
    },
    {
     "cell_type": "code",
     "collapsed": false,
     "input": [
      "import matplotlib.pyplot as plt\n",
      "import numpy as np\n",
      "import scipy.optimize\n",
      "import time"
     ],
     "language": "python",
     "metadata": {},
     "outputs": [],
     "prompt_number": 2
    },
    {
     "cell_type": "markdown",
     "metadata": {},
     "source": [
      "Load and preprocess the data."
     ]
    },
    {
     "cell_type": "code",
     "collapsed": false,
     "input": [
      "data_original = np.loadtxt('stanford_dl_ex/ex1/housing.data')"
     ],
     "language": "python",
     "metadata": {},
     "outputs": [],
     "prompt_number": 3
    },
    {
     "cell_type": "code",
     "collapsed": false,
     "input": [
      "data = np.insert(data_original, 0, 1, axis=1)"
     ],
     "language": "python",
     "metadata": {},
     "outputs": [],
     "prompt_number": 4
    },
    {
     "cell_type": "code",
     "collapsed": false,
     "input": [
      "np.random.shuffle(data)"
     ],
     "language": "python",
     "metadata": {},
     "outputs": [],
     "prompt_number": 5
    },
    {
     "cell_type": "markdown",
     "metadata": {},
     "source": [
      "Create train & test sets."
     ]
    },
    {
     "cell_type": "code",
     "collapsed": false,
     "input": [
      "train_X = data[:400, :-1]\n",
      "train_y = data[:400, -1]\n",
      "\n",
      "test_X = data[400:, :-1]\n",
      "test_y = data[400:, -1]"
     ],
     "language": "python",
     "metadata": {},
     "outputs": [],
     "prompt_number": 6
    },
    {
     "cell_type": "code",
     "collapsed": false,
     "input": [
      "m, n = train_X.shape"
     ],
     "language": "python",
     "metadata": {},
     "outputs": [],
     "prompt_number": 7
    },
    {
     "cell_type": "markdown",
     "metadata": {},
     "source": [
      "Define the cost function and how to compute the gradient.<br>\n",
      "Both are needed for the subsequent optimization procedure."
     ]
    },
    {
     "cell_type": "code",
     "collapsed": false,
     "input": [
      "def cost_function(theta, X, y): \n",
      "    squared_errors = (X.dot(theta) - y) ** 2\n",
      "    J = 0.5 * squared_errors.sum()\n",
      "    return J"
     ],
     "language": "python",
     "metadata": {},
     "outputs": [],
     "prompt_number": 8
    },
    {
     "cell_type": "code",
     "collapsed": false,
     "input": [
      "def gradient(theta, X, y):\n",
      "    errors = X.dot(theta) - y\n",
      "    return errors.dot(X)"
     ],
     "language": "python",
     "metadata": {},
     "outputs": [],
     "prompt_number": 9
    },
    {
     "cell_type": "markdown",
     "metadata": {},
     "source": [
      "Run a timed optimization and store the iteration values of the cost function (for latter investigation)."
     ]
    },
    {
     "cell_type": "code",
     "collapsed": true,
     "input": [
      "J_history = []\n",
      "\n",
      "t0 = time.time()\n",
      "res = scipy.optimize.minimize(\n",
      "    fun=cost_function,\n",
      "    x0=np.random.rand(n),\n",
      "    args=(train_X, train_y),\n",
      "    method='bfgs',\n",
      "    jac=gradient,\n",
      "    options={'maxiter': 200, 'disp': True},\n",
      "    callback=lambda x: J_history.append(cost_function(x, train_X, train_y)),\n",
      ")\n",
      "t1 = time.time()\n",
      "\n",
      "print 'Optimization took {s} seconds'.format(s=t1 - t0)\n",
      "optimal_theta = res.x"
     ],
     "language": "python",
     "metadata": {},
     "outputs": [
      {
       "output_type": "stream",
       "stream": "stdout",
       "text": [
        "Optimization terminated successfully.\n",
        "         Current function value: 4563.983420\n",
        "         Iterations: 22\n",
        "         Function evaluations: 34\n",
        "         Gradient evaluations: 34\n",
        "Optimization took 0.00422596931458 seconds\n"
       ]
      }
     ],
     "prompt_number": 10
    },
    {
     "cell_type": "markdown",
     "metadata": {},
     "source": [
      "It's always interesting to take a more detailed look into the optimization results."
     ]
    },
    {
     "cell_type": "code",
     "collapsed": false,
     "input": [
      "plt.plot(J_history, marker='o')\n",
      "plt.xlabel('Iterations')\n",
      "plt.ylabel('J(theta)')"
     ],
     "language": "python",
     "metadata": {},
     "outputs": [
      {
       "metadata": {},
       "output_type": "pyout",
       "prompt_number": 11,
       "text": [
        "<matplotlib.text.Text at 0x1093c1410>"
       ]
      },
      {
       "metadata": {},
       "output_type": "display_data",
       "png": "[encoded data removed]",
       "text": [
        "<matplotlib.figure.Figure at 0x109383350>"
       ]
      }
     ],
     "prompt_number": 11
    },
    {
     "cell_type": "markdown",
     "metadata": {},
     "source": [
      "Now compute the Root Mean Square Error on both the train and the test set and hopefully they are similar to each other. "
     ]
    },
    {
     "cell_type": "code",
     "collapsed": false,
     "input": [
      "for dataset, (X, y) in (\n",
      "    ('train', (train_X, train_y)),\n",
      "    ('test', (test_X, test_y)),\n",
      "):\n",
      "    actual_prices = y\n",
      "    predicted_prices = X.dot(optimal_theta)\n",
      "    print 'RMS {dataset} error: {error}'.format(\n",
      "        dataset=dataset,\n",
      "        error=np.sqrt(np.mean((predicted_prices - actual_prices) ** 2))\n",
      "    )"
     ],
     "language": "python",
     "metadata": {},
     "outputs": [
      {
       "output_type": "stream",
       "stream": "stdout",
       "text": [
        "RMS train error: 4.77701968826\n",
        "RMS test error: 4.37904496904\n"
       ]
      }
     ],
     "prompt_number": 12
    },
    {
     "cell_type": "markdown",
     "metadata": {},
     "source": [
      "Finally, let's have a more intuitive look at the predictions."
     ]
    },
    {
     "cell_type": "code",
     "collapsed": false,
     "input": [
      "plt.figure(figsize=(10,8))\n",
      "plt.scatter(np.arange(test_y.size), sorted(test_y), c='b', edgecolor='None', alpha=0.5, label='actual')\n",
      "plt.scatter(np.arange(test_y.size), sorted(test_X.dot(optimal_theta)), c='g', edgecolor='None', alpha=0.5, label='predicted')\n",
      "plt.legend(loc='upper left')\n",
      "plt.ylabel('House price ($1000s)')\n",
      "plt.xlabel('House #')"
     ],
     "language": "python",
     "metadata": {},
     "outputs": [
      {
       "metadata": {},
       "output_type": "pyout",
       "prompt_number": 13,
       "text": [
        "<matplotlib.text.Text at 0x10942a490>"
       ]
      },
      {
       "metadata": {},
       "output_type": "display_data",
       "png": "[encoded data removed]",
       "text": [
        "<matplotlib.figure.Figure at 0x1093adcd0>"
       ]
      }
     ],
     "prompt_number": 13
    }
   ],
   "metadata": {}
  }
 ]
}